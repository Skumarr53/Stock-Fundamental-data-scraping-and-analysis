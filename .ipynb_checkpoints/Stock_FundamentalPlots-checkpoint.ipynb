{
 "cells": [
  {
   "cell_type": "code",
   "execution_count": 2,
   "metadata": {},
   "outputs": [],
   "source": [
    "# plotting Trends\n",
    "import numpy as np\n",
    "import matplotlib\n",
    "matplotlib.use('Agg')\n",
    "import matplotlib.pyplot as plt\n",
    "from selenium import webdriver\n",
    "from webdriver_manager.chrome import ChromeDriverManager\n",
    "from bs4 import BeautifulSoup as bs\n",
    "import pandas as pd\n",
    "import time\n",
    "\n",
    "\n",
    "dr = webdriver.Chrome(\"/usr/lib/chromium-browser/chromedriver\")\n",
    "\n",
    "dr.get(\"https://www.screener.in/login/\")\n",
    "\n",
    "username = dr.find_element_by_id(\"id_username\")\n",
    "username.clear()\n",
    "username.send_keys(\"skumarr53@gmail.com\")\n",
    "\n",
    "password = dr.find_element_by_id(\"id_password\")\n",
    "password.clear()\n",
    "password.send_keys(\"Skumarr53@\")\n",
    "\n",
    "dr.find_element_by_css_selector('#main-area > form > p:nth-child(6) > button').click()\n",
    "i=1"
   ]
  },
  {
   "cell_type": "code",
   "execution_count": 18,
   "metadata": {},
   "outputs": [
    {
     "name": "stdout",
     "output_type": "stream",
     "text": [
      "1\n"
     ]
    },
    {
     "ename": "ElementClickInterceptedException",
     "evalue": "Message: element click intercepted: Element <button class=\"button-link show-schedules\" onclick=\"Company.showSchedule('Sales', 'profit-loss', this)\">...</button> is not clickable at point (45, 10). Other element would receive the click: <button id=\"top-nav-menu-button\" class=\"button-link nav-item\" aria-label=\"Show Navigation Menu\">...</button>\n  (Session info: chrome=78.0.3904.108)\n",
     "output_type": "error",
     "traceback": [
      "\u001b[0;31m---------------------------------------------------------------------------\u001b[0m",
      "\u001b[0;31mElementClickInterceptedException\u001b[0m          Traceback (most recent call last)",
      "\u001b[0;32m<ipython-input-18-28e2af9b690c>\u001b[0m in \u001b[0;36m<module>\u001b[0;34m\u001b[0m\n\u001b[1;32m     51\u001b[0m         \u001b[0msalesCss\u001b[0m \u001b[0;34m=\u001b[0m \u001b[0;34m'#profit-loss > div.responsive-holder > table > tbody > tr:nth-child(1)'\u001b[0m\u001b[0;34m\u001b[0m\u001b[0;34m\u001b[0m\u001b[0m\n\u001b[1;32m     52\u001b[0m         \u001b[0msales\u001b[0m \u001b[0;34m=\u001b[0m \u001b[0mcss2np\u001b[0m\u001b[0;34m(\u001b[0m\u001b[0msalesCss\u001b[0m\u001b[0;34m,\u001b[0m\u001b[0myears\u001b[0m\u001b[0;34m)\u001b[0m\u001b[0;34m\u001b[0m\u001b[0;34m\u001b[0m\u001b[0m\n\u001b[0;32m---> 53\u001b[0;31m         \u001b[0mdr\u001b[0m\u001b[0;34m.\u001b[0m\u001b[0mfind_element_by_css_selector\u001b[0m\u001b[0;34m(\u001b[0m\u001b[0;34m'#profit-loss > div.responsive-holder > table > tbody > tr:nth-child(1) > td.text > button'\u001b[0m\u001b[0;34m)\u001b[0m\u001b[0;34m.\u001b[0m\u001b[0mclick\u001b[0m\u001b[0;34m(\u001b[0m\u001b[0;34m)\u001b[0m\u001b[0;34m\u001b[0m\u001b[0;34m\u001b[0m\u001b[0m\n\u001b[0m\u001b[1;32m     54\u001b[0m         \u001b[0mSalesGcss\u001b[0m \u001b[0;34m=\u001b[0m \u001b[0;34m'#profit-loss > div.responsive-holder > table > tbody > tr:nth-child(2)'\u001b[0m\u001b[0;34m\u001b[0m\u001b[0;34m\u001b[0m\u001b[0m\n\u001b[1;32m     55\u001b[0m         \u001b[0mSalesG\u001b[0m \u001b[0;34m=\u001b[0m \u001b[0mcss2np\u001b[0m\u001b[0;34m(\u001b[0m\u001b[0mSalesGcss\u001b[0m\u001b[0;34m,\u001b[0m\u001b[0myears\u001b[0m\u001b[0;34m)\u001b[0m\u001b[0;34m\u001b[0m\u001b[0;34m\u001b[0m\u001b[0m\n",
      "\u001b[0;32m~/miniconda3/lib/python3.7/site-packages/selenium/webdriver/remote/webelement.py\u001b[0m in \u001b[0;36mclick\u001b[0;34m(self)\u001b[0m\n\u001b[1;32m     78\u001b[0m     \u001b[0;32mdef\u001b[0m \u001b[0mclick\u001b[0m\u001b[0;34m(\u001b[0m\u001b[0mself\u001b[0m\u001b[0;34m)\u001b[0m\u001b[0;34m:\u001b[0m\u001b[0;34m\u001b[0m\u001b[0;34m\u001b[0m\u001b[0m\n\u001b[1;32m     79\u001b[0m         \u001b[0;34m\"\"\"Clicks the element.\"\"\"\u001b[0m\u001b[0;34m\u001b[0m\u001b[0;34m\u001b[0m\u001b[0m\n\u001b[0;32m---> 80\u001b[0;31m         \u001b[0mself\u001b[0m\u001b[0;34m.\u001b[0m\u001b[0m_execute\u001b[0m\u001b[0;34m(\u001b[0m\u001b[0mCommand\u001b[0m\u001b[0;34m.\u001b[0m\u001b[0mCLICK_ELEMENT\u001b[0m\u001b[0;34m)\u001b[0m\u001b[0;34m\u001b[0m\u001b[0;34m\u001b[0m\u001b[0m\n\u001b[0m\u001b[1;32m     81\u001b[0m \u001b[0;34m\u001b[0m\u001b[0m\n\u001b[1;32m     82\u001b[0m     \u001b[0;32mdef\u001b[0m \u001b[0msubmit\u001b[0m\u001b[0;34m(\u001b[0m\u001b[0mself\u001b[0m\u001b[0;34m)\u001b[0m\u001b[0;34m:\u001b[0m\u001b[0;34m\u001b[0m\u001b[0;34m\u001b[0m\u001b[0m\n",
      "\u001b[0;32m~/miniconda3/lib/python3.7/site-packages/selenium/webdriver/remote/webelement.py\u001b[0m in \u001b[0;36m_execute\u001b[0;34m(self, command, params)\u001b[0m\n\u001b[1;32m    631\u001b[0m             \u001b[0mparams\u001b[0m \u001b[0;34m=\u001b[0m \u001b[0;34m{\u001b[0m\u001b[0;34m}\u001b[0m\u001b[0;34m\u001b[0m\u001b[0;34m\u001b[0m\u001b[0m\n\u001b[1;32m    632\u001b[0m         \u001b[0mparams\u001b[0m\u001b[0;34m[\u001b[0m\u001b[0;34m'id'\u001b[0m\u001b[0;34m]\u001b[0m \u001b[0;34m=\u001b[0m \u001b[0mself\u001b[0m\u001b[0;34m.\u001b[0m\u001b[0m_id\u001b[0m\u001b[0;34m\u001b[0m\u001b[0;34m\u001b[0m\u001b[0m\n\u001b[0;32m--> 633\u001b[0;31m         \u001b[0;32mreturn\u001b[0m \u001b[0mself\u001b[0m\u001b[0;34m.\u001b[0m\u001b[0m_parent\u001b[0m\u001b[0;34m.\u001b[0m\u001b[0mexecute\u001b[0m\u001b[0;34m(\u001b[0m\u001b[0mcommand\u001b[0m\u001b[0;34m,\u001b[0m \u001b[0mparams\u001b[0m\u001b[0;34m)\u001b[0m\u001b[0;34m\u001b[0m\u001b[0;34m\u001b[0m\u001b[0m\n\u001b[0m\u001b[1;32m    634\u001b[0m \u001b[0;34m\u001b[0m\u001b[0m\n\u001b[1;32m    635\u001b[0m     \u001b[0;32mdef\u001b[0m \u001b[0mfind_element\u001b[0m\u001b[0;34m(\u001b[0m\u001b[0mself\u001b[0m\u001b[0;34m,\u001b[0m \u001b[0mby\u001b[0m\u001b[0;34m=\u001b[0m\u001b[0mBy\u001b[0m\u001b[0;34m.\u001b[0m\u001b[0mID\u001b[0m\u001b[0;34m,\u001b[0m \u001b[0mvalue\u001b[0m\u001b[0;34m=\u001b[0m\u001b[0;32mNone\u001b[0m\u001b[0;34m)\u001b[0m\u001b[0;34m:\u001b[0m\u001b[0;34m\u001b[0m\u001b[0;34m\u001b[0m\u001b[0m\n",
      "\u001b[0;32m~/miniconda3/lib/python3.7/site-packages/selenium/webdriver/remote/webdriver.py\u001b[0m in \u001b[0;36mexecute\u001b[0;34m(self, driver_command, params)\u001b[0m\n\u001b[1;32m    319\u001b[0m         \u001b[0mresponse\u001b[0m \u001b[0;34m=\u001b[0m \u001b[0mself\u001b[0m\u001b[0;34m.\u001b[0m\u001b[0mcommand_executor\u001b[0m\u001b[0;34m.\u001b[0m\u001b[0mexecute\u001b[0m\u001b[0;34m(\u001b[0m\u001b[0mdriver_command\u001b[0m\u001b[0;34m,\u001b[0m \u001b[0mparams\u001b[0m\u001b[0;34m)\u001b[0m\u001b[0;34m\u001b[0m\u001b[0;34m\u001b[0m\u001b[0m\n\u001b[1;32m    320\u001b[0m         \u001b[0;32mif\u001b[0m \u001b[0mresponse\u001b[0m\u001b[0;34m:\u001b[0m\u001b[0;34m\u001b[0m\u001b[0;34m\u001b[0m\u001b[0m\n\u001b[0;32m--> 321\u001b[0;31m             \u001b[0mself\u001b[0m\u001b[0;34m.\u001b[0m\u001b[0merror_handler\u001b[0m\u001b[0;34m.\u001b[0m\u001b[0mcheck_response\u001b[0m\u001b[0;34m(\u001b[0m\u001b[0mresponse\u001b[0m\u001b[0;34m)\u001b[0m\u001b[0;34m\u001b[0m\u001b[0;34m\u001b[0m\u001b[0m\n\u001b[0m\u001b[1;32m    322\u001b[0m             response['value'] = self._unwrap_value(\n\u001b[1;32m    323\u001b[0m                 response.get('value', None))\n",
      "\u001b[0;32m~/miniconda3/lib/python3.7/site-packages/selenium/webdriver/remote/errorhandler.py\u001b[0m in \u001b[0;36mcheck_response\u001b[0;34m(self, response)\u001b[0m\n\u001b[1;32m    240\u001b[0m                 \u001b[0malert_text\u001b[0m \u001b[0;34m=\u001b[0m \u001b[0mvalue\u001b[0m\u001b[0;34m[\u001b[0m\u001b[0;34m'alert'\u001b[0m\u001b[0;34m]\u001b[0m\u001b[0;34m.\u001b[0m\u001b[0mget\u001b[0m\u001b[0;34m(\u001b[0m\u001b[0;34m'text'\u001b[0m\u001b[0;34m)\u001b[0m\u001b[0;34m\u001b[0m\u001b[0;34m\u001b[0m\u001b[0m\n\u001b[1;32m    241\u001b[0m             \u001b[0;32mraise\u001b[0m \u001b[0mexception_class\u001b[0m\u001b[0;34m(\u001b[0m\u001b[0mmessage\u001b[0m\u001b[0;34m,\u001b[0m \u001b[0mscreen\u001b[0m\u001b[0;34m,\u001b[0m \u001b[0mstacktrace\u001b[0m\u001b[0;34m,\u001b[0m \u001b[0malert_text\u001b[0m\u001b[0;34m)\u001b[0m\u001b[0;34m\u001b[0m\u001b[0;34m\u001b[0m\u001b[0m\n\u001b[0;32m--> 242\u001b[0;31m         \u001b[0;32mraise\u001b[0m \u001b[0mexception_class\u001b[0m\u001b[0;34m(\u001b[0m\u001b[0mmessage\u001b[0m\u001b[0;34m,\u001b[0m \u001b[0mscreen\u001b[0m\u001b[0;34m,\u001b[0m \u001b[0mstacktrace\u001b[0m\u001b[0;34m)\u001b[0m\u001b[0;34m\u001b[0m\u001b[0;34m\u001b[0m\u001b[0m\n\u001b[0m\u001b[1;32m    243\u001b[0m \u001b[0;34m\u001b[0m\u001b[0m\n\u001b[1;32m    244\u001b[0m     \u001b[0;32mdef\u001b[0m \u001b[0m_value_or_default\u001b[0m\u001b[0;34m(\u001b[0m\u001b[0mself\u001b[0m\u001b[0;34m,\u001b[0m \u001b[0mobj\u001b[0m\u001b[0;34m,\u001b[0m \u001b[0mkey\u001b[0m\u001b[0;34m,\u001b[0m \u001b[0mdefault\u001b[0m\u001b[0;34m)\u001b[0m\u001b[0;34m:\u001b[0m\u001b[0;34m\u001b[0m\u001b[0;34m\u001b[0m\u001b[0m\n",
      "\u001b[0;31mElementClickInterceptedException\u001b[0m: Message: element click intercepted: Element <button class=\"button-link show-schedules\" onclick=\"Company.showSchedule('Sales', 'profit-loss', this)\">...</button> is not clickable at point (45, 10). Other element would receive the click: <button id=\"top-nav-menu-button\" class=\"button-link nav-item\" aria-label=\"Show Navigation Menu\">...</button>\n  (Session info: chrome=78.0.3904.108)\n"
     ]
    }
   ],
   "source": [
    "matplotlib.rc('xtick', labelsize=15)\n",
    "matplotlib.rc('ytick', labelsize=15)\n",
    "\n",
    "def css2np(css,years):\n",
    "    ls = []\n",
    "    for i in range(2,len(years)+2):\n",
    "        ls.append(dr.find_element_by_css_selector(css+' > td:nth-child('+str(i)+')').text.replace('%','').replace(',',''))\n",
    "    return pd.to_numeric(np.array(ls), errors='coerce')\n",
    "\n",
    "\n",
    "#### for loop\n",
    "\n",
    "dr.get(\n",
    "    'https://www.screener.in/screen/raw/?sort=&order=&source=&query=Market+Capitalization%3E0'\n",
    ")   # filtered or screened link from screener \n",
    "lastpage = int(\n",
    "    dr.find_element_by_css_selector(\n",
    "        '#industry-filter-results > div.flexed > div').text.split(' ')[-1])\n",
    "\n",
    "for i in list(range(1,4)):  #lastpage+1\n",
    "    print(i)\n",
    "    url = 'https://www.screener.in/screen/raw/?sort=&source=&page=' + str(\n",
    "        i) + '&query=Market+Capitalization>0'\n",
    "    dr.get(url)\n",
    "    time.sleep(1)\n",
    "    html = dr.page_source\n",
    "    soup = bs(html)\n",
    "    pageLinks = list(\n",
    "        map(lambda x: x.get('href'),\n",
    "            soup.findAll('a', attrs={'href': re.compile(\"/company/\")})))\n",
    "    \n",
    "    \n",
    "    for j in pageLinks[:3]: #[pageLinks.index(j):]\n",
    "        # Stock url\n",
    "        stockUrl = 'https://www.screener.in' + j\n",
    "        dr.get(stockUrl)\n",
    "        time.sleep(2)\n",
    "        scrnid = dr.find_element_by_css_selector('#company-info').get_attribute('data-company-id')\n",
    "        \n",
    "        years = np.asarray([\n",
    "                    x for x in dr.find_element_by_css_selector(\n",
    "                        '#profit-loss > div.responsive-holder > table > thead').text.\n",
    "                    split(' ') if '20' in x\n",
    "                ]).astype(int)\n",
    "        \n",
    "        Sector = dr.find_element_by_css_selector('#peers > h2 > small').text.replace('\\n', \"\")\n",
    "        \n",
    "        ####-------------Fundamentals\n",
    "        # SalesGrowth ratio\n",
    "        salesCss = '#profit-loss > div.responsive-holder > table > tbody > tr:nth-child(1)'\n",
    "        sales = css2np(salesCss,years)\n",
    "        dr.find_element_by_css_selector('#profit-loss > div.responsive-holder > table > tbody > tr:nth-child(1) > td.text > button').click()        \n",
    "        SalesGcss = '#profit-loss > div.responsive-holder > table > tbody > tr:nth-child(2)'\n",
    "        SalesG = css2np(SalesGcss,years)\n",
    "        dr.find_element_by_css_selector('#profit-loss > div:nth-child(3) > table > tbody > tr.stripe.highlight.strong > td.text > button').click()\n",
    "        \n",
    "        # Operating Profit margin\n",
    "        OPMcss = '#profit-loss > div.responsive-holder > table > tbody > tr:nth-child(4)'\n",
    "        OPM = css2np(OPMcss,years)\n",
    "        \n",
    "        # Net Profit Margin\n",
    "        NPMcss = '#profit-loss > div.responsive-holder > table > tbody > tr:nth-child(10)'\n",
    "        NP = css2np(NPMcss,years)\n",
    "        NPM = NP/sales*100\n",
    "        \n",
    "        #Earnings Per Share\n",
    "        EPScss = '#profit-loss > div.responsive-holder > table > tbody > tr:nth-child(11)'\n",
    "        EPS = css2np(EPScss,years)\n",
    "        \n",
    "        #Debt\n",
    "        Debtcss = '#balance-sheet > div > table > tbody > tr:nth-child(3)'\n",
    "        Debt = css2np(Debtcss,years)\n",
    "        \n",
    "        # ROCE \n",
    "        ROCEcss = '#ratios > div > table > tbody > tr:nth-child(1)'\n",
    "        ROCE = css2np(ROCEcss,years)\n",
    "        \n",
    "        #Operating and Investing CashFlows\n",
    "        CFoperating_css = '#cash-flow > div > table > tbody > tr:nth-child(1)'\n",
    "        CFoperating = css2np(CFoperating_css,years)\n",
    "        \n",
    "        \n",
    "        # Assets purchased \n",
    "        dr.find_element_by_css_selector('#cash-flow > div > table > tbody > tr:nth-child(2) > td.text > button').click()\n",
    "        AssetPur_css = '#cash-flow > div > table > tbody > tr:nth-child(3)'\n",
    "        AssetPur = css2np(AssetPur_css,years)*-1\n",
    "        AssetSold_css = '#cash-flow > div > table > tbody > tr:nth-child(4)'\n",
    "        AssetSold = css2np(AssetSold_css,years)\n",
    "        dr.find_element_by_css_selector('#cash-flow > div > table > tbody > tr:nth-child(2) > td.text > button').click()\n",
    "        \n",
    "        # Reinvestment into bussiness\n",
    "        Reinv_rate = AssetPur/ CFoperating * 100\n",
    "        Reinv_rate[Reinv_rate<0] = 0\n",
    "        \n",
    "        # Free CashFlows\n",
    "        FreeCashFlows = CFoperating-AssetPur+AssetSold\n",
    "        \n",
    "        #--------Fundamentals\n",
    "        \n",
    "        company = dr.find_element_by_css_selector(\n",
    "            '#company-info > h1').text.replace(' ', '_')\n",
    "        Sector = dr.find_element_by_css_selector(\n",
    "            '#peers > h2 > small').text.replace('\\n', \"\").replace('  ', \"\").split('//')\n",
    "        MarCap = dr.find_element_by_css_selector(\n",
    "            '#main-area > section:nth-child(5) > ul > li:nth-child(1)').text\n",
    "        year = years[0] - 1 if len(years) > 0 else 'NA'\n",
    "        \n",
    "        a = dr.find_element_by_css_selector(\n",
    "            '#quick-ratios-placeholder > ul').text.split('\\n')\n",
    "        PC = [x for x in a if 'Price to Free Cash Flow:' in x][0]\n",
    "        \n",
    "        # Plotting Trends\n",
    "        plt.style.use('ggplot')\n",
    "        fig, ax = plt.subplots(nrows=3, ncols=3,sharex=True)  #sharex=True\n",
    "        fig.set_size_inches((30, 20))\n",
    "        #fig.suptitle(\"Trends for \"+company, fontsize=18)\n",
    "        txt = company + '\\n\\n    ' + Sector[0] + '    ' + Sector[\n",
    "            1] + '    ' + MarCap + '    ' + PC + '    ' + 'Start Year: ' + str(year)\n",
    "        \n",
    "        fig.suptitle(txt, fontsize=18)\n",
    "        \n",
    "        # -------- Row 1\n",
    "        \n",
    "        # Sales Growth\n",
    "        ax[0, 0].plot(years,SalesG, color='green')\n",
    "        ax[0, 0].set_title('Sales growth %', fontsize=16)\n",
    "        ax[0, 0].set_ylim(bottom=-20)\n",
    "            \n",
    "        # Operating profit margin\n",
    "        ax[0, 1].plot( years,OPM, color='green')\n",
    "        ax[0, 1].set_title('Operating Profit Margin in %', fontsize=16)\n",
    "        ax[0, 1].set_ylim(bottom=-20)\n",
    "               \n",
    "        # Net- Profit Growth\n",
    "        ax[0, 2].plot(years,NPM, color='green')\n",
    "        ax[0, 2].set_title('Net profit growth %', fontsize=16)\n",
    "        ax[0, 2].set_ylim(bottom=-20)\n",
    "                \n",
    "        \n",
    "        # -------- Row 2\n",
    "        \n",
    "        # Asset Purchased\n",
    "        ax[1, 0].plot(years, AssetPur, color='green')\n",
    "        ax[1, 0].set_title('Asset Purchased in cr', fontsize=16)\n",
    "        ax[1, 0].set_ylim(bottom=-20)        \n",
    "        \n",
    "        # Reinvestment rate\n",
    "        ax[1, 1].plot(years, Reinv_rate, color='green') #dic2array(Asset_pur.keys())\n",
    "        ax[1, 1].set_title('Reinvestment into Business in %', fontsize=16)\n",
    "        ax[1, 1].set_ylim(bottom=0)\n",
    "        \n",
    "        \n",
    "        # Return on capital invested\n",
    "        ax[1, 2].plot(years, ROCE, color='green') #years,\n",
    "        ax[1, 2].set_title('Return on Cap Employed in %', fontsize=16)\n",
    "        ax[1, 2].set_ylim(bottom=-20)\n",
    "            \n",
    "        # -------- Row 3\n",
    "        \n",
    "        # Free Cash Flows\n",
    "        ax[2, 0].plot(years,FreeCashFlows , color='green')\n",
    "        ax[2, 0].set_title('Free Cash Flows', fontsize=16)\n",
    "        ax[2, 0].set_ylim(bottom=-20)\n",
    "        #ax[2, 0].set_ylim(-20,np.max(FreeCashFlows))\n",
    "        \n",
    "        # Debt\n",
    "        ax[2, 1].plot(years, Debt, color='red')\n",
    "        ax[2, 1].set_title('Debt in Cr', fontsize=16)\n",
    "        \n",
    "        \n",
    "        # Earnings Per Sahre\n",
    "        ax[2, 2].plot(years, EPS, color='green')\n",
    "        ax[2, 2].set_title('EPS', fontsize=16)\n",
    "        ax[2, 2].set_ylim(bottom=-20)\n",
    "        #ax[2, 2].set_ylim(-20,np.max(EPS))\n",
    "        \n",
    "        plt.xticks(fontsize=12)\n",
    "        plt.subplots_adjust(top=0.91)\n",
    "        #plt.text(1, 1, txt, fontsize=16,transform=ax[1].transAxes)\n",
    "        sec = Sector[0].replace('/', '~').split(':')[1].strip().replace(' ', '')\n",
    "        plt.savefig('./TrendPlots/' + sec + '_' + company + '.png',\n",
    "                    pad_inches=0.1,bbox_inches=\"tight\")\n",
    "        plt.close(fig)\n",
    "\n",
    "        \n",
    "dr.find_element_by_css_selector('#top-nav-menu > form > button').click()"
   ]
  },
  {
   "cell_type": "code",
   "execution_count": null,
   "metadata": {},
   "outputs": [],
   "source": [
    "#cash-flow > div.responsive-holder > table > tbody > tr:nth-child(3)\n",
    "#cash-flow > div.responsive-holder > table > tbody > tr:nth-child(4)"
   ]
  },
  {
   "cell_type": "code",
   "execution_count": 4,
   "metadata": {},
   "outputs": [
    {
     "ename": "ElementClickInterceptedException",
     "evalue": "Message: element click intercepted: Element <button class=\"button-link show-schedules\" onclick=\"Company.showSchedule('Sales', 'profit-loss', this)\">...</button> is not clickable at point (45, 10). Other element would receive the click: <a href=\"/\">...</a>\n  (Session info: chrome=78.0.3904.108)\n",
     "output_type": "error",
     "traceback": [
      "\u001b[0;31m---------------------------------------------------------------------------\u001b[0m",
      "\u001b[0;31mElementClickInterceptedException\u001b[0m          Traceback (most recent call last)",
      "\u001b[0;32m<ipython-input-4-04ea9517275d>\u001b[0m in \u001b[0;36m<module>\u001b[0;34m\u001b[0m\n\u001b[1;32m      1\u001b[0m \u001b[0msalesCss\u001b[0m \u001b[0;34m=\u001b[0m \u001b[0;34m'#profit-loss > div.responsive-holder > table > tbody > tr:nth-child(1)'\u001b[0m\u001b[0;34m\u001b[0m\u001b[0;34m\u001b[0m\u001b[0m\n\u001b[1;32m      2\u001b[0m \u001b[0msales\u001b[0m \u001b[0;34m=\u001b[0m \u001b[0mcss2np\u001b[0m\u001b[0;34m(\u001b[0m\u001b[0msalesCss\u001b[0m\u001b[0;34m,\u001b[0m\u001b[0myears\u001b[0m\u001b[0;34m)\u001b[0m\u001b[0;34m\u001b[0m\u001b[0;34m\u001b[0m\u001b[0m\n\u001b[0;32m----> 3\u001b[0;31m \u001b[0mdr\u001b[0m\u001b[0;34m.\u001b[0m\u001b[0mfind_element_by_css_selector\u001b[0m\u001b[0;34m(\u001b[0m\u001b[0;34m'#profit-loss > div.responsive-holder > table > tbody > tr:nth-child(1) > td.text > button'\u001b[0m\u001b[0;34m)\u001b[0m\u001b[0;34m.\u001b[0m\u001b[0mclick\u001b[0m\u001b[0;34m(\u001b[0m\u001b[0;34m)\u001b[0m\u001b[0;34m\u001b[0m\u001b[0;34m\u001b[0m\u001b[0m\n\u001b[0m\u001b[1;32m      4\u001b[0m \u001b[0mSalesGcss\u001b[0m \u001b[0;34m=\u001b[0m \u001b[0;34m'#profit-loss > div.responsive-holder > table > tbody > tr:nth-child(2)'\u001b[0m\u001b[0;34m\u001b[0m\u001b[0;34m\u001b[0m\u001b[0m\n\u001b[1;32m      5\u001b[0m \u001b[0mSalesG\u001b[0m \u001b[0;34m=\u001b[0m \u001b[0mcss2np\u001b[0m\u001b[0;34m(\u001b[0m\u001b[0mSalesGcss\u001b[0m\u001b[0;34m,\u001b[0m\u001b[0myears\u001b[0m\u001b[0;34m)\u001b[0m\u001b[0;34m\u001b[0m\u001b[0;34m\u001b[0m\u001b[0m\n",
      "\u001b[0;32m~/miniconda3/lib/python3.7/site-packages/selenium/webdriver/remote/webelement.py\u001b[0m in \u001b[0;36mclick\u001b[0;34m(self)\u001b[0m\n\u001b[1;32m     78\u001b[0m     \u001b[0;32mdef\u001b[0m \u001b[0mclick\u001b[0m\u001b[0;34m(\u001b[0m\u001b[0mself\u001b[0m\u001b[0;34m)\u001b[0m\u001b[0;34m:\u001b[0m\u001b[0;34m\u001b[0m\u001b[0;34m\u001b[0m\u001b[0m\n\u001b[1;32m     79\u001b[0m         \u001b[0;34m\"\"\"Clicks the element.\"\"\"\u001b[0m\u001b[0;34m\u001b[0m\u001b[0;34m\u001b[0m\u001b[0m\n\u001b[0;32m---> 80\u001b[0;31m         \u001b[0mself\u001b[0m\u001b[0;34m.\u001b[0m\u001b[0m_execute\u001b[0m\u001b[0;34m(\u001b[0m\u001b[0mCommand\u001b[0m\u001b[0;34m.\u001b[0m\u001b[0mCLICK_ELEMENT\u001b[0m\u001b[0;34m)\u001b[0m\u001b[0;34m\u001b[0m\u001b[0;34m\u001b[0m\u001b[0m\n\u001b[0m\u001b[1;32m     81\u001b[0m \u001b[0;34m\u001b[0m\u001b[0m\n\u001b[1;32m     82\u001b[0m     \u001b[0;32mdef\u001b[0m \u001b[0msubmit\u001b[0m\u001b[0;34m(\u001b[0m\u001b[0mself\u001b[0m\u001b[0;34m)\u001b[0m\u001b[0;34m:\u001b[0m\u001b[0;34m\u001b[0m\u001b[0;34m\u001b[0m\u001b[0m\n",
      "\u001b[0;32m~/miniconda3/lib/python3.7/site-packages/selenium/webdriver/remote/webelement.py\u001b[0m in \u001b[0;36m_execute\u001b[0;34m(self, command, params)\u001b[0m\n\u001b[1;32m    631\u001b[0m             \u001b[0mparams\u001b[0m \u001b[0;34m=\u001b[0m \u001b[0;34m{\u001b[0m\u001b[0;34m}\u001b[0m\u001b[0;34m\u001b[0m\u001b[0;34m\u001b[0m\u001b[0m\n\u001b[1;32m    632\u001b[0m         \u001b[0mparams\u001b[0m\u001b[0;34m[\u001b[0m\u001b[0;34m'id'\u001b[0m\u001b[0;34m]\u001b[0m \u001b[0;34m=\u001b[0m \u001b[0mself\u001b[0m\u001b[0;34m.\u001b[0m\u001b[0m_id\u001b[0m\u001b[0;34m\u001b[0m\u001b[0;34m\u001b[0m\u001b[0m\n\u001b[0;32m--> 633\u001b[0;31m         \u001b[0;32mreturn\u001b[0m \u001b[0mself\u001b[0m\u001b[0;34m.\u001b[0m\u001b[0m_parent\u001b[0m\u001b[0;34m.\u001b[0m\u001b[0mexecute\u001b[0m\u001b[0;34m(\u001b[0m\u001b[0mcommand\u001b[0m\u001b[0;34m,\u001b[0m \u001b[0mparams\u001b[0m\u001b[0;34m)\u001b[0m\u001b[0;34m\u001b[0m\u001b[0;34m\u001b[0m\u001b[0m\n\u001b[0m\u001b[1;32m    634\u001b[0m \u001b[0;34m\u001b[0m\u001b[0m\n\u001b[1;32m    635\u001b[0m     \u001b[0;32mdef\u001b[0m \u001b[0mfind_element\u001b[0m\u001b[0;34m(\u001b[0m\u001b[0mself\u001b[0m\u001b[0;34m,\u001b[0m \u001b[0mby\u001b[0m\u001b[0;34m=\u001b[0m\u001b[0mBy\u001b[0m\u001b[0;34m.\u001b[0m\u001b[0mID\u001b[0m\u001b[0;34m,\u001b[0m \u001b[0mvalue\u001b[0m\u001b[0;34m=\u001b[0m\u001b[0;32mNone\u001b[0m\u001b[0;34m)\u001b[0m\u001b[0;34m:\u001b[0m\u001b[0;34m\u001b[0m\u001b[0;34m\u001b[0m\u001b[0m\n",
      "\u001b[0;32m~/miniconda3/lib/python3.7/site-packages/selenium/webdriver/remote/webdriver.py\u001b[0m in \u001b[0;36mexecute\u001b[0;34m(self, driver_command, params)\u001b[0m\n\u001b[1;32m    319\u001b[0m         \u001b[0mresponse\u001b[0m \u001b[0;34m=\u001b[0m \u001b[0mself\u001b[0m\u001b[0;34m.\u001b[0m\u001b[0mcommand_executor\u001b[0m\u001b[0;34m.\u001b[0m\u001b[0mexecute\u001b[0m\u001b[0;34m(\u001b[0m\u001b[0mdriver_command\u001b[0m\u001b[0;34m,\u001b[0m \u001b[0mparams\u001b[0m\u001b[0;34m)\u001b[0m\u001b[0;34m\u001b[0m\u001b[0;34m\u001b[0m\u001b[0m\n\u001b[1;32m    320\u001b[0m         \u001b[0;32mif\u001b[0m \u001b[0mresponse\u001b[0m\u001b[0;34m:\u001b[0m\u001b[0;34m\u001b[0m\u001b[0;34m\u001b[0m\u001b[0m\n\u001b[0;32m--> 321\u001b[0;31m             \u001b[0mself\u001b[0m\u001b[0;34m.\u001b[0m\u001b[0merror_handler\u001b[0m\u001b[0;34m.\u001b[0m\u001b[0mcheck_response\u001b[0m\u001b[0;34m(\u001b[0m\u001b[0mresponse\u001b[0m\u001b[0;34m)\u001b[0m\u001b[0;34m\u001b[0m\u001b[0;34m\u001b[0m\u001b[0m\n\u001b[0m\u001b[1;32m    322\u001b[0m             response['value'] = self._unwrap_value(\n\u001b[1;32m    323\u001b[0m                 response.get('value', None))\n",
      "\u001b[0;32m~/miniconda3/lib/python3.7/site-packages/selenium/webdriver/remote/errorhandler.py\u001b[0m in \u001b[0;36mcheck_response\u001b[0;34m(self, response)\u001b[0m\n\u001b[1;32m    240\u001b[0m                 \u001b[0malert_text\u001b[0m \u001b[0;34m=\u001b[0m \u001b[0mvalue\u001b[0m\u001b[0;34m[\u001b[0m\u001b[0;34m'alert'\u001b[0m\u001b[0;34m]\u001b[0m\u001b[0;34m.\u001b[0m\u001b[0mget\u001b[0m\u001b[0;34m(\u001b[0m\u001b[0;34m'text'\u001b[0m\u001b[0;34m)\u001b[0m\u001b[0;34m\u001b[0m\u001b[0;34m\u001b[0m\u001b[0m\n\u001b[1;32m    241\u001b[0m             \u001b[0;32mraise\u001b[0m \u001b[0mexception_class\u001b[0m\u001b[0;34m(\u001b[0m\u001b[0mmessage\u001b[0m\u001b[0;34m,\u001b[0m \u001b[0mscreen\u001b[0m\u001b[0;34m,\u001b[0m \u001b[0mstacktrace\u001b[0m\u001b[0;34m,\u001b[0m \u001b[0malert_text\u001b[0m\u001b[0;34m)\u001b[0m\u001b[0;34m\u001b[0m\u001b[0;34m\u001b[0m\u001b[0m\n\u001b[0;32m--> 242\u001b[0;31m         \u001b[0;32mraise\u001b[0m \u001b[0mexception_class\u001b[0m\u001b[0;34m(\u001b[0m\u001b[0mmessage\u001b[0m\u001b[0;34m,\u001b[0m \u001b[0mscreen\u001b[0m\u001b[0;34m,\u001b[0m \u001b[0mstacktrace\u001b[0m\u001b[0;34m)\u001b[0m\u001b[0;34m\u001b[0m\u001b[0;34m\u001b[0m\u001b[0m\n\u001b[0m\u001b[1;32m    243\u001b[0m \u001b[0;34m\u001b[0m\u001b[0m\n\u001b[1;32m    244\u001b[0m     \u001b[0;32mdef\u001b[0m \u001b[0m_value_or_default\u001b[0m\u001b[0;34m(\u001b[0m\u001b[0mself\u001b[0m\u001b[0;34m,\u001b[0m \u001b[0mobj\u001b[0m\u001b[0;34m,\u001b[0m \u001b[0mkey\u001b[0m\u001b[0;34m,\u001b[0m \u001b[0mdefault\u001b[0m\u001b[0;34m)\u001b[0m\u001b[0;34m:\u001b[0m\u001b[0;34m\u001b[0m\u001b[0;34m\u001b[0m\u001b[0m\n",
      "\u001b[0;31mElementClickInterceptedException\u001b[0m: Message: element click intercepted: Element <button class=\"button-link show-schedules\" onclick=\"Company.showSchedule('Sales', 'profit-loss', this)\">...</button> is not clickable at point (45, 10). Other element would receive the click: <a href=\"/\">...</a>\n  (Session info: chrome=78.0.3904.108)\n"
     ]
    }
   ],
   "source": [
    "salesCss = '#profit-loss > div.responsive-holder > table > tbody > tr:nth-child(1)'\n",
    "sales = css2np(salesCss,years)\n",
    "dr.find_element_by_css_selector('#profit-loss > div.responsive-holder > table > tbody > tr:nth-child(1) > td.text > button').click()        \n",
    "SalesGcss = '#profit-loss > div.responsive-holder > table > tbody > tr:nth-child(2)'\n",
    "SalesG = css2np(SalesGcss,years)"
   ]
  },
  {
   "cell_type": "code",
   "execution_count": 5,
   "metadata": {},
   "outputs": [],
   "source": [
    "salesCss = '#profit-loss > div.responsive-holder > table > tbody > tr:nth-child(1)'\n",
    "sales = css2np(salesCss,years)"
   ]
  },
  {
   "cell_type": "code",
   "execution_count": 6,
   "metadata": {},
   "outputs": [
    {
     "data": {
      "text/plain": [
       "array([  97,   68,   90,  204,  383,  626, 1093, 1709, 1935, 2616, 3393,\n",
       "       3488])"
      ]
     },
     "execution_count": 6,
     "metadata": {},
     "output_type": "execute_result"
    }
   ],
   "source": [
    "sales"
   ]
  },
  {
   "cell_type": "code",
   "execution_count": 7,
   "metadata": {},
   "outputs": [],
   "source": [
    "dr.find_element_by_css_selector('#profit-loss > div.responsive-holder > table > tbody > tr:nth-child(1) > td.text > button').click()        \n"
   ]
  },
  {
   "cell_type": "code",
   "execution_count": 8,
   "metadata": {},
   "outputs": [
    {
     "data": {
      "text/plain": [
       "array([2008, 2009, 2010, 2011, 2012, 2013, 2014, 2015, 2016, 2017, 2018,\n",
       "       2019])"
      ]
     },
     "execution_count": 8,
     "metadata": {},
     "output_type": "execute_result"
    }
   ],
   "source": [
    "years"
   ]
  },
  {
   "cell_type": "code",
   "execution_count": 9,
   "metadata": {},
   "outputs": [],
   "source": [
    "SalesG = css2np(SalesGcss,years)"
   ]
  },
  {
   "cell_type": "code",
   "execution_count": 10,
   "metadata": {},
   "outputs": [
    {
     "data": {
      "text/plain": [
       "array([-33.16, -30.18,  32.15, 126.78,  87.89,  63.6 ,  74.55,  56.29,\n",
       "        13.27,  35.16,  29.71,   2.8 ])"
      ]
     },
     "execution_count": 10,
     "metadata": {},
     "output_type": "execute_result"
    }
   ],
   "source": [
    "SalesG"
   ]
  },
  {
   "cell_type": "code",
   "execution_count": 11,
   "metadata": {},
   "outputs": [
    {
     "data": {
      "text/plain": [
       "array([2008, 2009, 2010, 2011, 2012, 2013, 2014, 2015, 2016, 2017, 2018,\n",
       "       2019])"
      ]
     },
     "execution_count": 11,
     "metadata": {},
     "output_type": "execute_result"
    }
   ],
   "source": [
    "years"
   ]
  },
  {
   "cell_type": "code",
   "execution_count": 12,
   "metadata": {},
   "outputs": [
    {
     "data": {
      "text/plain": [
       "True"
      ]
     },
     "execution_count": 12,
     "metadata": {},
     "output_type": "execute_result"
    }
   ],
   "source": [
    "len(years)==len(SalesG)"
   ]
  },
  {
   "cell_type": "code",
   "execution_count": 15,
   "metadata": {},
   "outputs": [
    {
     "data": {
      "text/plain": [
       "array([4.700e-01, 6.000e-02, 7.900e-01, 1.890e+00, 1.157e+01, 1.311e+01,\n",
       "       3.644e+01, 1.638e+01, 6.651e+01, 9.187e+01, 7.961e+01, 2.500e+01])"
      ]
     },
     "execution_count": 15,
     "metadata": {},
     "output_type": "execute_result"
    }
   ],
   "source": [
    "AssetPur"
   ]
  },
  {
   "cell_type": "code",
   "execution_count": 16,
   "metadata": {},
   "outputs": [
    {
     "data": {
      "text/plain": [
       "array([-4.700e-01, -6.000e-02, -7.900e-01, -1.890e+00, -1.157e+01,\n",
       "       -1.311e+01, -3.644e+01, -1.638e+01, -6.651e+01, -9.187e+01,\n",
       "       -7.961e+01, -2.500e+01])"
      ]
     },
     "execution_count": 16,
     "metadata": {},
     "output_type": "execute_result"
    }
   ],
   "source": [
    "AssetSold"
   ]
  },
  {
   "cell_type": "code",
   "execution_count": 17,
   "metadata": {},
   "outputs": [
    {
     "data": {
      "text/plain": [
       "'#cash-flow > div > table > tbody > tr:nth-child(3)'"
      ]
     },
     "execution_count": 17,
     "metadata": {},
     "output_type": "execute_result"
    }
   ],
   "source": [
    "AssetPur_css"
   ]
  },
  {
   "cell_type": "code",
   "execution_count": null,
   "metadata": {},
   "outputs": [],
   "source": []
  }
 ],
 "metadata": {
  "kernelspec": {
   "display_name": "Python 3",
   "language": "python",
   "name": "python3"
  },
  "language_info": {
   "codemirror_mode": {
    "name": "ipython",
    "version": 3
   },
   "file_extension": ".py",
   "mimetype": "text/x-python",
   "name": "python",
   "nbconvert_exporter": "python",
   "pygments_lexer": "ipython3",
   "version": "3.7.3"
  },
  "toc": {
   "base_numbering": 1,
   "nav_menu": {},
   "number_sections": true,
   "sideBar": true,
   "skip_h1_title": false,
   "title_cell": "Table of Contents",
   "title_sidebar": "Contents",
   "toc_cell": false,
   "toc_position": {},
   "toc_section_display": true,
   "toc_window_display": false
  }
 },
 "nbformat": 4,
 "nbformat_minor": 2
}
